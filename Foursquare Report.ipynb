{
    "nbformat_minor": 1, 
    "cells": [
        {
            "source": "## Introduction / Business Problem", 
            "cell_type": "markdown", 
            "metadata": {
                "collapsed": true
            }
        }, 
        {
            "source": "For a city as large as New York, where is the better choice to locate a restaurant can be a hard decision to make. This report aims to provide a method to explore which borough is a better choice for a specific type of restaurant, ie Japanese restaurant. It will illustrate the problem by several aspects, for example, finding out how many similar restaurant in that borough, which price range is preferred, etc. with the data gathering by Foursquare. This will portray a outline of competitors' and customers' charastistics for restaurant owners so that they have a better idea of their potential competitors and customers.", 
            "cell_type": "markdown", 
            "metadata": {}
        }, 
        {
            "source": "## Data", 
            "cell_type": "markdown", 
            "metadata": {}
        }, 
        {
            "source": "The data source is Foursquare conbined with data from https://cocl.us/new_york_dataset. The latter includes information of Borough, Neibourhood, Latitude, and Longitute in New York. The dataset consists 5 boroughs and 306 neighborhoods. With geographical coordinates, data can be extracted from Foursquare and structured into dataframe. The dataframe will be the source of furthur analysis. It will be clustered into five and visualized on map. Current restaurants in each cluster will be explored and compared. Final conclusion will be drawn after comparison of price range and restaurant quantity.", 
            "cell_type": "markdown", 
            "metadata": {}
        }, 
        {
            "source": "import numpy as np\n\nimport pandas as pd \npd.set_option('display.max_columns', None)\npd.set_option('display.max_rows', None)\n\nimport json \n\n!conda install -c conda-forge geopy --yes \nfrom geopy.geocoders import Nominatim \n\nimport requests \nfrom pandas.io.json import json_normalize \n\nimport matplotlib.cm as cm\nimport matplotlib.colors as colors\n\nfrom sklearn.cluster import KMeans\n\n!conda install -c conda-forge folium=0.5.0 --yes\nimport folium", 
            "cell_type": "code", 
            "metadata": {}, 
            "outputs": [
                {
                    "output_type": "stream", 
                    "name": "stdout", 
                    "text": "Solving environment: done\n\n# All requested packages already installed.\n\nSolving environment: done\n\n# All requested packages already installed.\n\n"
                }
            ], 
            "execution_count": 3
        }, 
        {
            "source": "CLIENT_ID = 'N5TJZJ4ZQDQYX3YTGNLX5PHX1JK1JH550QPM4OMXKBBYRZHO' \nCLIENT_SECRET = 'EI02X1U00CFKYGU3WEQHTLXBTDWM3WAKAPEQF5T1NFBPEBII' \nVERSION = '20180604'\nLIMIT = 30\nprint('Your credentails:')\nprint('CLIENT_ID: ' + CLIENT_ID)\nprint('CLIENT_SECRET:' + CLIENT_SECRET)", 
            "cell_type": "code", 
            "metadata": {}, 
            "outputs": [
                {
                    "output_type": "stream", 
                    "name": "stdout", 
                    "text": "Your credentails:\nCLIENT_ID: N5TJZJ4ZQDQYX3YTGNLX5PHX1JK1JH550QPM4OMXKBBYRZHO\nCLIENT_SECRET:EI02X1U00CFKYGU3WEQHTLXBTDWM3WAKAPEQF5T1NFBPEBII\n"
                }
            ], 
            "execution_count": 4
        }, 
        {
            "source": "!wget -q -O 'newyork_data.json' https://cocl.us/new_york_dataset\nprint('Data downloaded!')\n\nwith open('newyork_data.json') as json_data:\n    newyork_data = json.load(json_data)\n\nneighborhoods_data = newyork_data['features']\ncolumn_names = ['Borough', 'Neighborhood', 'Latitude', 'Longitude'] \n\nneighborhoods = pd.DataFrame(columns=column_names)", 
            "cell_type": "code", 
            "metadata": {}, 
            "outputs": [
                {
                    "output_type": "stream", 
                    "name": "stdout", 
                    "text": "Data downloaded!\n"
                }
            ], 
            "execution_count": 5
        }, 
        {
            "source": "for data in neighborhoods_data:\n    borough = neighborhood_name = data['properties']['borough'] \n    neighborhood_name = data['properties']['name']\n        \n    neighborhood_latlon = data['geometry']['coordinates']\n    neighborhood_lat = neighborhood_latlon[1]\n    neighborhood_lon = neighborhood_latlon[0]\n    \n    neighborhoods = neighborhoods.append({'Borough': borough,\n                                          'Neighborhood': neighborhood_name,\n                                          'Latitude': neighborhood_lat,\n                                          'Longitude': neighborhood_lon}, ignore_index=True)", 
            "cell_type": "code", 
            "metadata": {}, 
            "outputs": [], 
            "execution_count": 6
        }, 
        {
            "source": "print('The dataframe has {} boroughs and {} neighborhoods.'.format(\n        len(neighborhoods['Borough'].unique()),\n        neighborhoods.shape[0]\n    )\n)", 
            "cell_type": "code", 
            "metadata": {}, 
            "outputs": [
                {
                    "output_type": "stream", 
                    "name": "stdout", 
                    "text": "The dataframe has 5 boroughs and 306 neighborhoods.\n"
                }
            ], 
            "execution_count": 7
        }, 
        {
            "source": "address = 'New York City, NY'\n\ngeolocator = Nominatim(user_agent=\"ny_explorer\")\nlocation = geolocator.geocode(address)\nlatitude = location.latitude\nlongitude = location.longitude\nprint('The geograpical coordinate of New York City are {}, {}.'.format(latitude, longitude))", 
            "cell_type": "code", 
            "metadata": {}, 
            "outputs": [
                {
                    "output_type": "stream", 
                    "name": "stdout", 
                    "text": "The geograpical coordinate of New York City are 40.7127281, -74.0060152.\n"
                }
            ], 
            "execution_count": 8
        }, 
        {
            "source": "", 
            "cell_type": "code", 
            "metadata": {}, 
            "outputs": [], 
            "execution_count": null
        }
    ], 
    "metadata": {
        "kernelspec": {
            "display_name": "Python 3.6", 
            "name": "python3", 
            "language": "python"
        }, 
        "language_info": {
            "mimetype": "text/x-python", 
            "nbconvert_exporter": "python", 
            "version": "3.6.8", 
            "name": "python", 
            "pygments_lexer": "ipython3", 
            "file_extension": ".py", 
            "codemirror_mode": {
                "version": 3, 
                "name": "ipython"
            }
        }
    }, 
    "nbformat": 4
}